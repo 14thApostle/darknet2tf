{
 "cells": [
  {
   "cell_type": "code",
   "execution_count": 1,
   "metadata": {},
   "outputs": [],
   "source": [
    "import time\n",
    "import core.utils as utils\n",
    "from core.yolov4 import YOLOv4\n",
    "from PIL import Image\n",
    "from core.config import cfg\n",
    "\n",
    "import cv2\n",
    "import numpy as np\n",
    "import tensorflow as tf\n",
    "from tensorflow.keras.models import load_model"
   ]
  },
  {
   "cell_type": "code",
   "execution_count": 2,
   "metadata": {},
   "outputs": [],
   "source": [
    "STRIDES = np.array(cfg.YOLO.STRIDES)\n",
    "ANCHORS = utils.get_anchors(cfg.YOLO.ANCHORS, False)\n",
    "NUM_CLASS = len(utils.read_class_names(cfg.YOLO.CLASSES))\n",
    "XYSCALE = cfg.YOLO.XYSCALE\n",
    "\n",
    "input_size = 416\n",
    "image_path = \"/home/lordgrim/Work/VisioLab/smaller-data/Images/group_2028.jpg\"\n",
    "\n",
    "original_image = cv2.imread(image_path)\n",
    "original_image = cv2.cvtColor(original_image, cv2.COLOR_BGR2RGB)\n",
    "original_image_size = original_image.shape[:2]\n",
    "\n",
    "image_data = utils.image_preprocess(np.copy(original_image), [input_size, input_size])\n",
    "image_data = image_data[np.newaxis, ...].astype(np.float32)"
   ]
  },
  {
   "cell_type": "code",
   "execution_count": 6,
   "metadata": {
    "tags": [
     "outputPrepend"
    ]
   },
   "outputs": [
    {
     "output_type": "stream",
     "name": "stdout",
     "text": "ion_87[0][0]     \n__________________________________________________________________________________________________\nconv2d_88 (Conv2D)              (None, 52, 52, 256)  294912      tf_op_layer_LeakyRelu_15[0][0]   \n__________________________________________________________________________________________________\nbatch_normalization_88 (BatchNo (None, 52, 52, 256)  1024        conv2d_88[0][0]                  \n__________________________________________________________________________________________________\ntf_op_layer_LeakyRelu_16 (Tenso (None, 52, 52, 256)  0           batch_normalization_88[0][0]     \n__________________________________________________________________________________________________\nconv2d_89 (Conv2D)              (None, 52, 52, 128)  32768       tf_op_layer_LeakyRelu_16[0][0]   \n__________________________________________________________________________________________________\nbatch_normalization_89 (BatchNo (None, 52, 52, 128)  512         conv2d_89[0][0]                  \n__________________________________________________________________________________________________\ntf_op_layer_LeakyRelu_17 (Tenso (None, 52, 52, 128)  0           batch_normalization_89[0][0]     \n__________________________________________________________________________________________________\nconv2d_90 (Conv2D)              (None, 52, 52, 256)  294912      tf_op_layer_LeakyRelu_17[0][0]   \n__________________________________________________________________________________________________\nbatch_normalization_90 (BatchNo (None, 52, 52, 256)  1024        conv2d_90[0][0]                  \n__________________________________________________________________________________________________\ntf_op_layer_LeakyRelu_18 (Tenso (None, 52, 52, 256)  0           batch_normalization_90[0][0]     \n__________________________________________________________________________________________________\nconv2d_91 (Conv2D)              (None, 52, 52, 128)  32768       tf_op_layer_LeakyRelu_18[0][0]   \n__________________________________________________________________________________________________\nbatch_normalization_91 (BatchNo (None, 52, 52, 128)  512         conv2d_91[0][0]                  \n__________________________________________________________________________________________________\ntf_op_layer_LeakyRelu_19 (Tenso (None, 52, 52, 128)  0           batch_normalization_91[0][0]     \n__________________________________________________________________________________________________\nzero_padding2d_5 (ZeroPadding2D (None, 53, 53, 128)  0           tf_op_layer_LeakyRelu_19[0][0]   \n__________________________________________________________________________________________________\nconv2d_94 (Conv2D)              (None, 26, 26, 256)  294912      zero_padding2d_5[0][0]           \n__________________________________________________________________________________________________\nbatch_normalization_93 (BatchNo (None, 26, 26, 256)  1024        conv2d_94[0][0]                  \n__________________________________________________________________________________________________\ntf_op_layer_LeakyRelu_21 (Tenso (None, 26, 26, 256)  0           batch_normalization_93[0][0]     \n__________________________________________________________________________________________________\ntf_op_layer_concat_8 (TensorFlo (None, 26, 26, 512)  0           tf_op_layer_LeakyRelu_21[0][0]   \n                                                                 tf_op_layer_LeakyRelu_12[0][0]   \n__________________________________________________________________________________________________\nconv2d_95 (Conv2D)              (None, 26, 26, 256)  131072      tf_op_layer_concat_8[0][0]       \n__________________________________________________________________________________________________\nbatch_normalization_94 (BatchNo (None, 26, 26, 256)  1024        conv2d_95[0][0]                  \n__________________________________________________________________________________________________\ntf_op_layer_LeakyRelu_22 (Tenso (None, 26, 26, 256)  0           batch_normalization_94[0][0]     \n__________________________________________________________________________________________________\nconv2d_96 (Conv2D)              (None, 26, 26, 512)  1179648     tf_op_layer_LeakyRelu_22[0][0]   \n__________________________________________________________________________________________________\nbatch_normalization_95 (BatchNo (None, 26, 26, 512)  2048        conv2d_96[0][0]                  \n__________________________________________________________________________________________________\ntf_op_layer_LeakyRelu_23 (Tenso (None, 26, 26, 512)  0           batch_normalization_95[0][0]     \n__________________________________________________________________________________________________\nconv2d_97 (Conv2D)              (None, 26, 26, 256)  131072      tf_op_layer_LeakyRelu_23[0][0]   \n__________________________________________________________________________________________________\nbatch_normalization_96 (BatchNo (None, 26, 26, 256)  1024        conv2d_97[0][0]                  \n__________________________________________________________________________________________________\ntf_op_layer_LeakyRelu_24 (Tenso (None, 26, 26, 256)  0           batch_normalization_96[0][0]     \n__________________________________________________________________________________________________\nconv2d_98 (Conv2D)              (None, 26, 26, 512)  1179648     tf_op_layer_LeakyRelu_24[0][0]   \n__________________________________________________________________________________________________\nbatch_normalization_97 (BatchNo (None, 26, 26, 512)  2048        conv2d_98[0][0]                  \n__________________________________________________________________________________________________\ntf_op_layer_LeakyRelu_25 (Tenso (None, 26, 26, 512)  0           batch_normalization_97[0][0]     \n__________________________________________________________________________________________________\nconv2d_99 (Conv2D)              (None, 26, 26, 256)  131072      tf_op_layer_LeakyRelu_25[0][0]   \n__________________________________________________________________________________________________\nbatch_normalization_98 (BatchNo (None, 26, 26, 256)  1024        conv2d_99[0][0]                  \n__________________________________________________________________________________________________\ntf_op_layer_LeakyRelu_26 (Tenso (None, 26, 26, 256)  0           batch_normalization_98[0][0]     \n__________________________________________________________________________________________________\nzero_padding2d_6 (ZeroPadding2D (None, 27, 27, 256)  0           tf_op_layer_LeakyRelu_26[0][0]   \n__________________________________________________________________________________________________\nconv2d_102 (Conv2D)             (None, 13, 13, 512)  1179648     zero_padding2d_6[0][0]           \n__________________________________________________________________________________________________\nbatch_normalization_100 (BatchN (None, 13, 13, 512)  2048        conv2d_102[0][0]                 \n__________________________________________________________________________________________________\ntf_op_layer_LeakyRelu_28 (Tenso (None, 13, 13, 512)  0           batch_normalization_100[0][0]    \n__________________________________________________________________________________________________\ntf_op_layer_concat_9 (TensorFlo (None, 13, 13, 1024) 0           tf_op_layer_LeakyRelu_28[0][0]   \n                                                                 tf_op_layer_LeakyRelu_5[0][0]    \n__________________________________________________________________________________________________\nconv2d_103 (Conv2D)             (None, 13, 13, 512)  524288      tf_op_layer_concat_9[0][0]       \n__________________________________________________________________________________________________\nbatch_normalization_101 (BatchN (None, 13, 13, 512)  2048        conv2d_103[0][0]                 \n__________________________________________________________________________________________________\ntf_op_layer_LeakyRelu_29 (Tenso (None, 13, 13, 512)  0           batch_normalization_101[0][0]    \n__________________________________________________________________________________________________\nconv2d_104 (Conv2D)             (None, 13, 13, 1024) 4718592     tf_op_layer_LeakyRelu_29[0][0]   \n__________________________________________________________________________________________________\nbatch_normalization_102 (BatchN (None, 13, 13, 1024) 4096        conv2d_104[0][0]                 \n__________________________________________________________________________________________________\ntf_op_layer_LeakyRelu_30 (Tenso (None, 13, 13, 1024) 0           batch_normalization_102[0][0]    \n__________________________________________________________________________________________________\nconv2d_105 (Conv2D)             (None, 13, 13, 512)  524288      tf_op_layer_LeakyRelu_30[0][0]   \n__________________________________________________________________________________________________\nbatch_normalization_103 (BatchN (None, 13, 13, 512)  2048        conv2d_105[0][0]                 \n__________________________________________________________________________________________________\ntf_op_layer_LeakyRelu_31 (Tenso (None, 13, 13, 512)  0           batch_normalization_103[0][0]    \n__________________________________________________________________________________________________\nconv2d_106 (Conv2D)             (None, 13, 13, 1024) 4718592     tf_op_layer_LeakyRelu_31[0][0]   \n__________________________________________________________________________________________________\nbatch_normalization_104 (BatchN (None, 13, 13, 1024) 4096        conv2d_106[0][0]                 \n__________________________________________________________________________________________________\ntf_op_layer_LeakyRelu_32 (Tenso (None, 13, 13, 1024) 0           batch_normalization_104[0][0]    \n__________________________________________________________________________________________________\nconv2d_107 (Conv2D)             (None, 13, 13, 512)  524288      tf_op_layer_LeakyRelu_32[0][0]   \n__________________________________________________________________________________________________\nbatch_normalization_105 (BatchN (None, 13, 13, 512)  2048        conv2d_107[0][0]                 \n__________________________________________________________________________________________________\ntf_op_layer_LeakyRelu_33 (Tenso (None, 13, 13, 512)  0           batch_normalization_105[0][0]    \n__________________________________________________________________________________________________\nconv2d_92 (Conv2D)              (None, 52, 52, 256)  294912      tf_op_layer_LeakyRelu_19[0][0]   \n__________________________________________________________________________________________________\nconv2d_100 (Conv2D)             (None, 26, 26, 512)  1179648     tf_op_layer_LeakyRelu_26[0][0]   \n__________________________________________________________________________________________________\nconv2d_108 (Conv2D)             (None, 13, 13, 1024) 4718592     tf_op_layer_LeakyRelu_33[0][0]   \n__________________________________________________________________________________________________\nbatch_normalization_92 (BatchNo (None, 52, 52, 256)  1024        conv2d_92[0][0]                  \n__________________________________________________________________________________________________\nbatch_normalization_99 (BatchNo (None, 26, 26, 512)  2048        conv2d_100[0][0]                 \n__________________________________________________________________________________________________\nbatch_normalization_106 (BatchN (None, 13, 13, 1024) 4096        conv2d_108[0][0]                 \n__________________________________________________________________________________________________\ntf_op_layer_LeakyRelu_20 (Tenso (None, 52, 52, 256)  0           batch_normalization_92[0][0]     \n__________________________________________________________________________________________________\ntf_op_layer_LeakyRelu_27 (Tenso (None, 26, 26, 512)  0           batch_normalization_99[0][0]     \n__________________________________________________________________________________________________\ntf_op_layer_LeakyRelu_34 (Tenso (None, 13, 13, 1024) 0           batch_normalization_106[0][0]    \n__________________________________________________________________________________________________\nconv2d_93 (Conv2D)              (None, 52, 52, 84)   21588       tf_op_layer_LeakyRelu_20[0][0]   \n__________________________________________________________________________________________________\nconv2d_101 (Conv2D)             (None, 26, 26, 84)   43092       tf_op_layer_LeakyRelu_27[0][0]   \n__________________________________________________________________________________________________\nconv2d_109 (Conv2D)             (None, 13, 13, 84)   86100       tf_op_layer_LeakyRelu_34[0][0]   \n__________________________________________________________________________________________________\ntf_op_layer_Shape (TensorFlowOp (4,)                 0           conv2d_93[0][0]                  \n__________________________________________________________________________________________________\ntf_op_layer_Shape_1 (TensorFlow (4,)                 0           conv2d_101[0][0]                 \n__________________________________________________________________________________________________\ntf_op_layer_Shape_2 (TensorFlow (4,)                 0           conv2d_109[0][0]                 \n__________________________________________________________________________________________________\ntf_op_layer_strided_slice (Tens ()                   0           tf_op_layer_Shape[0][0]          \n__________________________________________________________________________________________________\ntf_op_layer_strided_slice_1 (Te ()                   0           tf_op_layer_Shape[0][0]          \n__________________________________________________________________________________________________\ntf_op_layer_strided_slice_2 (Te ()                   0           tf_op_layer_Shape_1[0][0]        \n__________________________________________________________________________________________________\ntf_op_layer_strided_slice_3 (Te ()                   0           tf_op_layer_Shape_1[0][0]        \n__________________________________________________________________________________________________\ntf_op_layer_strided_slice_4 (Te ()                   0           tf_op_layer_Shape_2[0][0]        \n__________________________________________________________________________________________________\ntf_op_layer_strided_slice_5 (Te ()                   0           tf_op_layer_Shape_2[0][0]        \n__________________________________________________________________________________________________\ntf_op_layer_Reshape/shape (Tens (5,)                 0           tf_op_layer_strided_slice[0][0]  \n                                                                 tf_op_layer_strided_slice_1[0][0]\n                                                                 tf_op_layer_strided_slice_1[0][0]\n__________________________________________________________________________________________________\ntf_op_layer_Reshape_1/shape (Te (5,)                 0           tf_op_layer_strided_slice_2[0][0]\n                                                                 tf_op_layer_strided_slice_3[0][0]\n                                                                 tf_op_layer_strided_slice_3[0][0]\n__________________________________________________________________________________________________\ntf_op_layer_Reshape_2/shape (Te (5,)                 0           tf_op_layer_strided_slice_4[0][0]\n                                                                 tf_op_layer_strided_slice_5[0][0]\n                                                                 tf_op_layer_strided_slice_5[0][0]\n__________________________________________________________________________________________________\ntf_op_layer_Reshape (TensorFlow (None, None, None, N 0           conv2d_93[0][0]                  \n                                                                 tf_op_layer_Reshape/shape[0][0]  \n__________________________________________________________________________________________________\ntf_op_layer_Reshape_1 (TensorFl (None, None, None, N 0           conv2d_101[0][0]                 \n                                                                 tf_op_layer_Reshape_1/shape[0][0]\n__________________________________________________________________________________________________\ntf_op_layer_Reshape_2 (TensorFl (None, None, None, N 0           conv2d_109[0][0]                 \n                                                                 tf_op_layer_Reshape_2/shape[0][0]\n__________________________________________________________________________________________________\ntf_op_layer_split (TensorFlowOp [(None, None, None,  0           tf_op_layer_Reshape[0][0]        \n__________________________________________________________________________________________________\ntf_op_layer_split_1 (TensorFlow [(None, None, None,  0           tf_op_layer_Reshape_1[0][0]      \n__________________________________________________________________________________________________\ntf_op_layer_split_2 (TensorFlow [(None, None, None,  0           tf_op_layer_Reshape_2[0][0]      \n__________________________________________________________________________________________________\ntf_op_layer_Sigmoid (TensorFlow (None, None, None, N 0           tf_op_layer_split[0][1]          \n__________________________________________________________________________________________________\ntf_op_layer_Sigmoid_1 (TensorFl (None, None, None, N 0           tf_op_layer_split[0][2]          \n__________________________________________________________________________________________________\ntf_op_layer_Sigmoid_2 (TensorFl (None, None, None, N 0           tf_op_layer_split_1[0][1]        \n__________________________________________________________________________________________________\ntf_op_layer_Sigmoid_3 (TensorFl (None, None, None, N 0           tf_op_layer_split_1[0][2]        \n__________________________________________________________________________________________________\ntf_op_layer_Sigmoid_4 (TensorFl (None, None, None, N 0           tf_op_layer_split_2[0][1]        \n__________________________________________________________________________________________________\ntf_op_layer_Sigmoid_5 (TensorFl (None, None, None, N 0           tf_op_layer_split_2[0][2]        \n__________________________________________________________________________________________________\ntf_op_layer_concat_10 (TensorFl (None, None, None, N 0           tf_op_layer_split[0][0]          \n                                                                 tf_op_layer_Sigmoid[0][0]        \n                                                                 tf_op_layer_Sigmoid_1[0][0]      \n__________________________________________________________________________________________________\ntf_op_layer_concat_11 (TensorFl (None, None, None, N 0           tf_op_layer_split_1[0][0]        \n                                                                 tf_op_layer_Sigmoid_2[0][0]      \n                                                                 tf_op_layer_Sigmoid_3[0][0]      \n__________________________________________________________________________________________________\ntf_op_layer_concat_12 (TensorFl (None, None, None, N 0           tf_op_layer_split_2[0][0]        \n                                                                 tf_op_layer_Sigmoid_4[0][0]      \n                                                                 tf_op_layer_Sigmoid_5[0][0]      \n==================================================================================================\nTotal params: 64,122,460\nTrainable params: 64,056,156\nNon-trainable params: 66,304\n__________________________________________________________________________________________________\n"
    }
   ],
   "source": [
    "model_path = \"models/final_tf_model5000\"\n",
    "model = load_model(model_path)\n",
    "model.summary()"
   ]
  },
  {
   "cell_type": "code",
   "execution_count": 13,
   "metadata": {},
   "outputs": [],
   "source": [
    "pred_bbox = model.predict(image_data)\n",
    "pred_bbox = utils.postprocess_bbbox(pred_bbox, ANCHORS, STRIDES, XYSCALE)\n",
    "bboxes = utils.postprocess_boxes(pred_bbox, original_image_size, input_size, 0.25)\n",
    "bboxes = utils.nms(bboxes, 0.213, method='nms')\n",
    "\n",
    "image = utils.draw_bbox(original_image, bboxes)\n",
    "image = Image.fromarray(image)\n",
    "image.show()"
   ]
  },
  {
   "cell_type": "code",
   "execution_count": 12,
   "metadata": {},
   "outputs": [
    {
     "output_type": "stream",
     "name": "stdout",
     "text": "[array([167.3993988 , 205.16627502, 322.99319458, 363.79983521,\n         0.99763471,  16.        ]), array([250.07762146,  96.35608673, 439.00515747, 187.09532166,\n         0.99838614,   9.        ]), array([486.77212524,  69.66133118, 674.65148926, 289.2583313 ,\n         0.99960577,  12.        ]), array([274.43841553, 187.59390259, 606.94641113, 540.71954346,\n         0.99970692,  20.        ])]\n"
    }
   ],
   "source": [
    "print(bboxes)"
   ]
  },
  {
   "cell_type": "code",
   "execution_count": 14,
   "metadata": {},
   "outputs": [
    {
     "output_type": "stream",
     "name": "stderr",
     "text": "WARNING:root:scikit-learn version 0.23.0 is not supported. Minimum required version: 0.17. Maximum required version: 0.19.2. Disabling scikit-learn conversion API.\nWARNING:root:Keras version 2.3.1 detected. Last version known to be fully compatible of Keras is 2.2.4 .\nRunning TensorFlow Graph Passes: 100%|██████████| 5/5 [00:08<00:00,  1.76s/ passes]\nConverting Frontend ==> MIL Ops: 100%|██████████| 1365/1365 [00:34<00:00, 39.62 ops/s]\nRunning MIL optimization passes: 100%|██████████| 13/13 [00:36<00:00,  2.78s/ passes]\nTranslating MIL ==> MLModel Ops: 100%|██████████| 1937/1937 [00:06<00:00, 303.46 ops/s]\n"
    }
   ],
   "source": [
    "import coremltools as ct\n",
    "\n",
    "# convert to Core ML and check predictions\n",
    "mlmodel = ct.convert(model)\n"
   ]
  },
  {
   "cell_type": "code",
   "execution_count": 15,
   "metadata": {},
   "outputs": [],
   "source": [
    "mlmodel.save(\"test1.mlmodel\")"
   ]
  },
  {
   "cell_type": "code",
   "execution_count": null,
   "metadata": {},
   "outputs": [],
   "source": []
  }
 ],
 "metadata": {
  "language_info": {
   "codemirror_mode": {
    "name": "ipython",
    "version": 3
   },
   "file_extension": ".py",
   "mimetype": "text/x-python",
   "name": "python",
   "nbconvert_exporter": "python",
   "pygments_lexer": "ipython3",
   "version": "3.6.9-final"
  },
  "orig_nbformat": 2,
  "kernelspec": {
   "name": "python36964bitfa2ff8d65480483aa457975841d73433",
   "display_name": "Python 3.6.9 64-bit"
  }
 },
 "nbformat": 4,
 "nbformat_minor": 2
}